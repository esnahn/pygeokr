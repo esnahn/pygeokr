{
 "cells": [
  {
   "cell_type": "code",
   "execution_count": 2,
   "metadata": {},
   "outputs": [
    {
     "name": "stderr",
     "output_type": "stream",
     "text": [
      "findfont: Font family ['KoPub돋움체'] not found. Falling back to DejaVu Sans.\n"
     ]
    },
    {
     "data": {
      "text/plain": [
       "'C:\\\\Users\\\\USER\\\\Documents\\\\pygeokr\\\\.env\\\\Lib\\\\site-packages\\\\matplotlib\\\\mpl-data\\\\fonts\\\\ttf\\\\DejaVuSans.ttf'"
      ]
     },
     "execution_count": 2,
     "metadata": {},
     "output_type": "execute_result"
    }
   ],
   "source": [
    "import numpy as np\n",
    "import pandas as pd\n",
    "import geopandas as gpd\n",
    "import matplotlib.pyplot as plt\n",
    "from pathlib import Path\n",
    "import matplotlib.font_manager as fm\n",
    "from matplotlib.font_manager import findfont, findSystemFonts, FontProperties\n",
    "from pathlib import Path\n"
   ]
  },
  {
   "cell_type": "code",
   "execution_count": 4,
   "metadata": {},
   "outputs": [
    {
     "data": {
      "text/plain": [
       "'C:\\\\Windows\\\\Fonts\\\\arial.ttf'"
      ]
     },
     "execution_count": 4,
     "metadata": {},
     "output_type": "execute_result"
    }
   ],
   "source": [
    "findfont(\"arial\")\n"
   ]
  },
  {
   "cell_type": "code",
   "execution_count": 5,
   "metadata": {},
   "outputs": [
    {
     "name": "stderr",
     "output_type": "stream",
     "text": [
      "findfont: Font family ['맑은 고딕'] not found. Falling back to DejaVu Sans.\n"
     ]
    },
    {
     "data": {
      "text/plain": [
       "'C:\\\\Users\\\\USER\\\\Documents\\\\pygeokr\\\\.env\\\\Lib\\\\site-packages\\\\matplotlib\\\\mpl-data\\\\fonts\\\\ttf\\\\DejaVuSans.ttf'"
      ]
     },
     "execution_count": 5,
     "metadata": {},
     "output_type": "execute_result"
    }
   ],
   "source": [
    "findfont(\"맑은 고딕\")\n"
   ]
  },
  {
   "cell_type": "code",
   "execution_count": 7,
   "metadata": {},
   "outputs": [
    {
     "data": {
      "text/plain": [
       "'C:\\\\Windows\\\\Fonts\\\\malgun.ttf'"
      ]
     },
     "execution_count": 7,
     "metadata": {},
     "output_type": "execute_result"
    }
   ],
   "source": [
    "findfont(\"malgun gothic\")\n"
   ]
  },
  {
   "cell_type": "code",
   "execution_count": 19,
   "metadata": {},
   "outputs": [
    {
     "name": "stdout",
     "output_type": "stream",
     "text": [
      "KoPubBatang Light : 400 C:\\Windows\\Fonts\\KoPubBatangLight.ttf\n",
      "Source Han Sans KR : 500 C:\\Users\\USER\\AppData\\Local\\Microsoft\\Windows\\Fonts\\SourceHanSansKR-Medium.otf\n",
      "KoPubDotum Bold : 400 C:\\Windows\\Fonts\\KoPubDotumBold.ttf\n",
      "Source Han Sans KR : 400 C:\\Users\\USER\\AppData\\Local\\Microsoft\\Windows\\Fonts\\SourceHanSansKR-Regular.otf\n",
      "Source Han Sans KR : 250 C:\\Users\\USER\\AppData\\Local\\Microsoft\\Windows\\Fonts\\SourceHanSansKR-ExtraLight.otf\n",
      "Source Han Sans KR : 900 C:\\Users\\USER\\AppData\\Local\\Microsoft\\Windows\\Fonts\\SourceHanSansKR-Heavy.otf\n",
      "KoPubBatang Bold : 400 C:\\Windows\\Fonts\\KoPubBatangBold.ttf\n",
      "KoPubBatang Medium : 400 C:\\Windows\\Fonts\\KoPubBatangMedium.ttf\n",
      "KoPubDotum Medium : 400 C:\\Windows\\Fonts\\KoPubDotumMedium.ttf\n",
      "Source Han Sans KR : 300 C:\\Users\\USER\\AppData\\Local\\Microsoft\\Windows\\Fonts\\SourceHanSansKR-Light.otf\n",
      "KoPubDotum Light : 400 C:\\Windows\\Fonts\\KoPubDotumLight.ttf\n",
      "Source Han Sans KR : 700 C:\\Users\\USER\\AppData\\Local\\Microsoft\\Windows\\Fonts\\SourceHanSansKR-Bold.otf\n",
      "Source Han Sans KR : 350 C:\\Users\\USER\\AppData\\Local\\Microsoft\\Windows\\Fonts\\SourceHanSansKR-Normal.otf\n"
     ]
    }
   ],
   "source": [
    "for font in fm.fontManager.ttflist:\n",
    "    if any(\n",
    "        x in font.name\n",
    "        for x in [\n",
    "            # \"Nanum\",\n",
    "            \"KoPub\",\n",
    "            \"Source Han\",\n",
    "        ]\n",
    "    ):\n",
    "        print(\n",
    "            font.name,\n",
    "            \":\",\n",
    "            font.weight,\n",
    "            font.fname,\n",
    "        )\n"
   ]
  },
  {
   "cell_type": "code",
   "execution_count": 14,
   "metadata": {},
   "outputs": [
    {
     "data": {
      "text/plain": [
       "'C:\\\\Windows\\\\Fonts\\\\KoPubDotumMedium.ttf'"
      ]
     },
     "execution_count": 14,
     "metadata": {},
     "output_type": "execute_result"
    }
   ],
   "source": [
    "findfont(\"KoPubDotum Medium\")\n"
   ]
  }
 ],
 "metadata": {
  "kernelspec": {
   "display_name": "Python 3.10.6 (conda)",
   "language": "python",
   "name": "python3"
  },
  "language_info": {
   "codemirror_mode": {
    "name": "ipython",
    "version": 3
   },
   "file_extension": ".py",
   "mimetype": "text/x-python",
   "name": "python",
   "nbconvert_exporter": "python",
   "pygments_lexer": "ipython3",
   "version": "3.10.6"
  },
  "orig_nbformat": 4,
  "vscode": {
   "interpreter": {
    "hash": "9a0c06055516db0d3c5de2679761030dfcaf6f27f3bf7168488f6ce8894de862"
   }
  }
 },
 "nbformat": 4,
 "nbformat_minor": 2
}
